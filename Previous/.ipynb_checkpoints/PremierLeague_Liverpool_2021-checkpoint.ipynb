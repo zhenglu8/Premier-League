{
 "cells": [
  {
   "cell_type": "code",
   "execution_count": 1,
   "id": "43d7f3f9",
   "metadata": {},
   "outputs": [],
   "source": [
    "import pandas as pd\n",
    "import matplotlib.pyplot as plt"
   ]
  },
  {
   "cell_type": "code",
   "execution_count": 2,
   "id": "67032d9f",
   "metadata": {},
   "outputs": [
    {
     "ename": "FileNotFoundError",
     "evalue": "[Errno 2] No such file or directory: 'results.csv'",
     "output_type": "error",
     "traceback": [
      "\u001b[0;31m---------------------------------------------------------------------------\u001b[0m",
      "\u001b[0;31mFileNotFoundError\u001b[0m                         Traceback (most recent call last)",
      "Cell \u001b[0;32mIn[2], line 1\u001b[0m\n\u001b[0;32m----> 1\u001b[0m df \u001b[38;5;241m=\u001b[39m \u001b[43mpd\u001b[49m\u001b[38;5;241;43m.\u001b[39;49m\u001b[43mread_csv\u001b[49m\u001b[43m(\u001b[49m\u001b[38;5;124;43mr\u001b[39;49m\u001b[38;5;124;43m\"\u001b[39;49m\u001b[38;5;124;43mresults.csv\u001b[39;49m\u001b[38;5;124;43m\"\u001b[39;49m\u001b[43m,\u001b[49m\u001b[43m \u001b[49m\u001b[43mencoding\u001b[49m\u001b[43m \u001b[49m\u001b[38;5;241;43m=\u001b[39;49m\u001b[43m \u001b[49m\u001b[38;5;124;43m\"\u001b[39;49m\u001b[38;5;124;43mISO-8859-1\u001b[39;49m\u001b[38;5;124;43m\"\u001b[39;49m\u001b[43m)\u001b[49m\n",
      "File \u001b[0;32m/Library/Frameworks/Python.framework/Versions/3.11/lib/python3.11/site-packages/pandas/util/_decorators.py:211\u001b[0m, in \u001b[0;36mdeprecate_kwarg.<locals>._deprecate_kwarg.<locals>.wrapper\u001b[0;34m(*args, **kwargs)\u001b[0m\n\u001b[1;32m    209\u001b[0m     \u001b[38;5;28;01melse\u001b[39;00m:\n\u001b[1;32m    210\u001b[0m         kwargs[new_arg_name] \u001b[38;5;241m=\u001b[39m new_arg_value\n\u001b[0;32m--> 211\u001b[0m \u001b[38;5;28;01mreturn\u001b[39;00m \u001b[43mfunc\u001b[49m\u001b[43m(\u001b[49m\u001b[38;5;241;43m*\u001b[39;49m\u001b[43margs\u001b[49m\u001b[43m,\u001b[49m\u001b[43m \u001b[49m\u001b[38;5;241;43m*\u001b[39;49m\u001b[38;5;241;43m*\u001b[39;49m\u001b[43mkwargs\u001b[49m\u001b[43m)\u001b[49m\n",
      "File \u001b[0;32m/Library/Frameworks/Python.framework/Versions/3.11/lib/python3.11/site-packages/pandas/util/_decorators.py:331\u001b[0m, in \u001b[0;36mdeprecate_nonkeyword_arguments.<locals>.decorate.<locals>.wrapper\u001b[0;34m(*args, **kwargs)\u001b[0m\n\u001b[1;32m    325\u001b[0m \u001b[38;5;28;01mif\u001b[39;00m \u001b[38;5;28mlen\u001b[39m(args) \u001b[38;5;241m>\u001b[39m num_allow_args:\n\u001b[1;32m    326\u001b[0m     warnings\u001b[38;5;241m.\u001b[39mwarn(\n\u001b[1;32m    327\u001b[0m         msg\u001b[38;5;241m.\u001b[39mformat(arguments\u001b[38;5;241m=\u001b[39m_format_argument_list(allow_args)),\n\u001b[1;32m    328\u001b[0m         \u001b[38;5;167;01mFutureWarning\u001b[39;00m,\n\u001b[1;32m    329\u001b[0m         stacklevel\u001b[38;5;241m=\u001b[39mfind_stack_level(),\n\u001b[1;32m    330\u001b[0m     )\n\u001b[0;32m--> 331\u001b[0m \u001b[38;5;28;01mreturn\u001b[39;00m \u001b[43mfunc\u001b[49m\u001b[43m(\u001b[49m\u001b[38;5;241;43m*\u001b[39;49m\u001b[43margs\u001b[49m\u001b[43m,\u001b[49m\u001b[43m \u001b[49m\u001b[38;5;241;43m*\u001b[39;49m\u001b[38;5;241;43m*\u001b[39;49m\u001b[43mkwargs\u001b[49m\u001b[43m)\u001b[49m\n",
      "File \u001b[0;32m/Library/Frameworks/Python.framework/Versions/3.11/lib/python3.11/site-packages/pandas/io/parsers/readers.py:950\u001b[0m, in \u001b[0;36mread_csv\u001b[0;34m(filepath_or_buffer, sep, delimiter, header, names, index_col, usecols, squeeze, prefix, mangle_dupe_cols, dtype, engine, converters, true_values, false_values, skipinitialspace, skiprows, skipfooter, nrows, na_values, keep_default_na, na_filter, verbose, skip_blank_lines, parse_dates, infer_datetime_format, keep_date_col, date_parser, dayfirst, cache_dates, iterator, chunksize, compression, thousands, decimal, lineterminator, quotechar, quoting, doublequote, escapechar, comment, encoding, encoding_errors, dialect, error_bad_lines, warn_bad_lines, on_bad_lines, delim_whitespace, low_memory, memory_map, float_precision, storage_options)\u001b[0m\n\u001b[1;32m    935\u001b[0m kwds_defaults \u001b[38;5;241m=\u001b[39m _refine_defaults_read(\n\u001b[1;32m    936\u001b[0m     dialect,\n\u001b[1;32m    937\u001b[0m     delimiter,\n\u001b[0;32m   (...)\u001b[0m\n\u001b[1;32m    946\u001b[0m     defaults\u001b[38;5;241m=\u001b[39m{\u001b[38;5;124m\"\u001b[39m\u001b[38;5;124mdelimiter\u001b[39m\u001b[38;5;124m\"\u001b[39m: \u001b[38;5;124m\"\u001b[39m\u001b[38;5;124m,\u001b[39m\u001b[38;5;124m\"\u001b[39m},\n\u001b[1;32m    947\u001b[0m )\n\u001b[1;32m    948\u001b[0m kwds\u001b[38;5;241m.\u001b[39mupdate(kwds_defaults)\n\u001b[0;32m--> 950\u001b[0m \u001b[38;5;28;01mreturn\u001b[39;00m \u001b[43m_read\u001b[49m\u001b[43m(\u001b[49m\u001b[43mfilepath_or_buffer\u001b[49m\u001b[43m,\u001b[49m\u001b[43m \u001b[49m\u001b[43mkwds\u001b[49m\u001b[43m)\u001b[49m\n",
      "File \u001b[0;32m/Library/Frameworks/Python.framework/Versions/3.11/lib/python3.11/site-packages/pandas/io/parsers/readers.py:605\u001b[0m, in \u001b[0;36m_read\u001b[0;34m(filepath_or_buffer, kwds)\u001b[0m\n\u001b[1;32m    602\u001b[0m _validate_names(kwds\u001b[38;5;241m.\u001b[39mget(\u001b[38;5;124m\"\u001b[39m\u001b[38;5;124mnames\u001b[39m\u001b[38;5;124m\"\u001b[39m, \u001b[38;5;28;01mNone\u001b[39;00m))\n\u001b[1;32m    604\u001b[0m \u001b[38;5;66;03m# Create the parser.\u001b[39;00m\n\u001b[0;32m--> 605\u001b[0m parser \u001b[38;5;241m=\u001b[39m \u001b[43mTextFileReader\u001b[49m\u001b[43m(\u001b[49m\u001b[43mfilepath_or_buffer\u001b[49m\u001b[43m,\u001b[49m\u001b[43m \u001b[49m\u001b[38;5;241;43m*\u001b[39;49m\u001b[38;5;241;43m*\u001b[39;49m\u001b[43mkwds\u001b[49m\u001b[43m)\u001b[49m\n\u001b[1;32m    607\u001b[0m \u001b[38;5;28;01mif\u001b[39;00m chunksize \u001b[38;5;129;01mor\u001b[39;00m iterator:\n\u001b[1;32m    608\u001b[0m     \u001b[38;5;28;01mreturn\u001b[39;00m parser\n",
      "File \u001b[0;32m/Library/Frameworks/Python.framework/Versions/3.11/lib/python3.11/site-packages/pandas/io/parsers/readers.py:1442\u001b[0m, in \u001b[0;36mTextFileReader.__init__\u001b[0;34m(self, f, engine, **kwds)\u001b[0m\n\u001b[1;32m   1439\u001b[0m     \u001b[38;5;28mself\u001b[39m\u001b[38;5;241m.\u001b[39moptions[\u001b[38;5;124m\"\u001b[39m\u001b[38;5;124mhas_index_names\u001b[39m\u001b[38;5;124m\"\u001b[39m] \u001b[38;5;241m=\u001b[39m kwds[\u001b[38;5;124m\"\u001b[39m\u001b[38;5;124mhas_index_names\u001b[39m\u001b[38;5;124m\"\u001b[39m]\n\u001b[1;32m   1441\u001b[0m \u001b[38;5;28mself\u001b[39m\u001b[38;5;241m.\u001b[39mhandles: IOHandles \u001b[38;5;241m|\u001b[39m \u001b[38;5;28;01mNone\u001b[39;00m \u001b[38;5;241m=\u001b[39m \u001b[38;5;28;01mNone\u001b[39;00m\n\u001b[0;32m-> 1442\u001b[0m \u001b[38;5;28mself\u001b[39m\u001b[38;5;241m.\u001b[39m_engine \u001b[38;5;241m=\u001b[39m \u001b[38;5;28;43mself\u001b[39;49m\u001b[38;5;241;43m.\u001b[39;49m\u001b[43m_make_engine\u001b[49m\u001b[43m(\u001b[49m\u001b[43mf\u001b[49m\u001b[43m,\u001b[49m\u001b[43m \u001b[49m\u001b[38;5;28;43mself\u001b[39;49m\u001b[38;5;241;43m.\u001b[39;49m\u001b[43mengine\u001b[49m\u001b[43m)\u001b[49m\n",
      "File \u001b[0;32m/Library/Frameworks/Python.framework/Versions/3.11/lib/python3.11/site-packages/pandas/io/parsers/readers.py:1735\u001b[0m, in \u001b[0;36mTextFileReader._make_engine\u001b[0;34m(self, f, engine)\u001b[0m\n\u001b[1;32m   1733\u001b[0m     \u001b[38;5;28;01mif\u001b[39;00m \u001b[38;5;124m\"\u001b[39m\u001b[38;5;124mb\u001b[39m\u001b[38;5;124m\"\u001b[39m \u001b[38;5;129;01mnot\u001b[39;00m \u001b[38;5;129;01min\u001b[39;00m mode:\n\u001b[1;32m   1734\u001b[0m         mode \u001b[38;5;241m+\u001b[39m\u001b[38;5;241m=\u001b[39m \u001b[38;5;124m\"\u001b[39m\u001b[38;5;124mb\u001b[39m\u001b[38;5;124m\"\u001b[39m\n\u001b[0;32m-> 1735\u001b[0m \u001b[38;5;28mself\u001b[39m\u001b[38;5;241m.\u001b[39mhandles \u001b[38;5;241m=\u001b[39m \u001b[43mget_handle\u001b[49m\u001b[43m(\u001b[49m\n\u001b[1;32m   1736\u001b[0m \u001b[43m    \u001b[49m\u001b[43mf\u001b[49m\u001b[43m,\u001b[49m\n\u001b[1;32m   1737\u001b[0m \u001b[43m    \u001b[49m\u001b[43mmode\u001b[49m\u001b[43m,\u001b[49m\n\u001b[1;32m   1738\u001b[0m \u001b[43m    \u001b[49m\u001b[43mencoding\u001b[49m\u001b[38;5;241;43m=\u001b[39;49m\u001b[38;5;28;43mself\u001b[39;49m\u001b[38;5;241;43m.\u001b[39;49m\u001b[43moptions\u001b[49m\u001b[38;5;241;43m.\u001b[39;49m\u001b[43mget\u001b[49m\u001b[43m(\u001b[49m\u001b[38;5;124;43m\"\u001b[39;49m\u001b[38;5;124;43mencoding\u001b[39;49m\u001b[38;5;124;43m\"\u001b[39;49m\u001b[43m,\u001b[49m\u001b[43m \u001b[49m\u001b[38;5;28;43;01mNone\u001b[39;49;00m\u001b[43m)\u001b[49m\u001b[43m,\u001b[49m\n\u001b[1;32m   1739\u001b[0m \u001b[43m    \u001b[49m\u001b[43mcompression\u001b[49m\u001b[38;5;241;43m=\u001b[39;49m\u001b[38;5;28;43mself\u001b[39;49m\u001b[38;5;241;43m.\u001b[39;49m\u001b[43moptions\u001b[49m\u001b[38;5;241;43m.\u001b[39;49m\u001b[43mget\u001b[49m\u001b[43m(\u001b[49m\u001b[38;5;124;43m\"\u001b[39;49m\u001b[38;5;124;43mcompression\u001b[39;49m\u001b[38;5;124;43m\"\u001b[39;49m\u001b[43m,\u001b[49m\u001b[43m \u001b[49m\u001b[38;5;28;43;01mNone\u001b[39;49;00m\u001b[43m)\u001b[49m\u001b[43m,\u001b[49m\n\u001b[1;32m   1740\u001b[0m \u001b[43m    \u001b[49m\u001b[43mmemory_map\u001b[49m\u001b[38;5;241;43m=\u001b[39;49m\u001b[38;5;28;43mself\u001b[39;49m\u001b[38;5;241;43m.\u001b[39;49m\u001b[43moptions\u001b[49m\u001b[38;5;241;43m.\u001b[39;49m\u001b[43mget\u001b[49m\u001b[43m(\u001b[49m\u001b[38;5;124;43m\"\u001b[39;49m\u001b[38;5;124;43mmemory_map\u001b[39;49m\u001b[38;5;124;43m\"\u001b[39;49m\u001b[43m,\u001b[49m\u001b[43m \u001b[49m\u001b[38;5;28;43;01mFalse\u001b[39;49;00m\u001b[43m)\u001b[49m\u001b[43m,\u001b[49m\n\u001b[1;32m   1741\u001b[0m \u001b[43m    \u001b[49m\u001b[43mis_text\u001b[49m\u001b[38;5;241;43m=\u001b[39;49m\u001b[43mis_text\u001b[49m\u001b[43m,\u001b[49m\n\u001b[1;32m   1742\u001b[0m \u001b[43m    \u001b[49m\u001b[43merrors\u001b[49m\u001b[38;5;241;43m=\u001b[39;49m\u001b[38;5;28;43mself\u001b[39;49m\u001b[38;5;241;43m.\u001b[39;49m\u001b[43moptions\u001b[49m\u001b[38;5;241;43m.\u001b[39;49m\u001b[43mget\u001b[49m\u001b[43m(\u001b[49m\u001b[38;5;124;43m\"\u001b[39;49m\u001b[38;5;124;43mencoding_errors\u001b[39;49m\u001b[38;5;124;43m\"\u001b[39;49m\u001b[43m,\u001b[49m\u001b[43m \u001b[49m\u001b[38;5;124;43m\"\u001b[39;49m\u001b[38;5;124;43mstrict\u001b[39;49m\u001b[38;5;124;43m\"\u001b[39;49m\u001b[43m)\u001b[49m\u001b[43m,\u001b[49m\n\u001b[1;32m   1743\u001b[0m \u001b[43m    \u001b[49m\u001b[43mstorage_options\u001b[49m\u001b[38;5;241;43m=\u001b[39;49m\u001b[38;5;28;43mself\u001b[39;49m\u001b[38;5;241;43m.\u001b[39;49m\u001b[43moptions\u001b[49m\u001b[38;5;241;43m.\u001b[39;49m\u001b[43mget\u001b[49m\u001b[43m(\u001b[49m\u001b[38;5;124;43m\"\u001b[39;49m\u001b[38;5;124;43mstorage_options\u001b[39;49m\u001b[38;5;124;43m\"\u001b[39;49m\u001b[43m,\u001b[49m\u001b[43m \u001b[49m\u001b[38;5;28;43;01mNone\u001b[39;49;00m\u001b[43m)\u001b[49m\u001b[43m,\u001b[49m\n\u001b[1;32m   1744\u001b[0m \u001b[43m\u001b[49m\u001b[43m)\u001b[49m\n\u001b[1;32m   1745\u001b[0m \u001b[38;5;28;01massert\u001b[39;00m \u001b[38;5;28mself\u001b[39m\u001b[38;5;241m.\u001b[39mhandles \u001b[38;5;129;01mis\u001b[39;00m \u001b[38;5;129;01mnot\u001b[39;00m \u001b[38;5;28;01mNone\u001b[39;00m\n\u001b[1;32m   1746\u001b[0m f \u001b[38;5;241m=\u001b[39m \u001b[38;5;28mself\u001b[39m\u001b[38;5;241m.\u001b[39mhandles\u001b[38;5;241m.\u001b[39mhandle\n",
      "File \u001b[0;32m/Library/Frameworks/Python.framework/Versions/3.11/lib/python3.11/site-packages/pandas/io/common.py:856\u001b[0m, in \u001b[0;36mget_handle\u001b[0;34m(path_or_buf, mode, encoding, compression, memory_map, is_text, errors, storage_options)\u001b[0m\n\u001b[1;32m    851\u001b[0m \u001b[38;5;28;01melif\u001b[39;00m \u001b[38;5;28misinstance\u001b[39m(handle, \u001b[38;5;28mstr\u001b[39m):\n\u001b[1;32m    852\u001b[0m     \u001b[38;5;66;03m# Check whether the filename is to be opened in binary mode.\u001b[39;00m\n\u001b[1;32m    853\u001b[0m     \u001b[38;5;66;03m# Binary mode does not support 'encoding' and 'newline'.\u001b[39;00m\n\u001b[1;32m    854\u001b[0m     \u001b[38;5;28;01mif\u001b[39;00m ioargs\u001b[38;5;241m.\u001b[39mencoding \u001b[38;5;129;01mand\u001b[39;00m \u001b[38;5;124m\"\u001b[39m\u001b[38;5;124mb\u001b[39m\u001b[38;5;124m\"\u001b[39m \u001b[38;5;129;01mnot\u001b[39;00m \u001b[38;5;129;01min\u001b[39;00m ioargs\u001b[38;5;241m.\u001b[39mmode:\n\u001b[1;32m    855\u001b[0m         \u001b[38;5;66;03m# Encoding\u001b[39;00m\n\u001b[0;32m--> 856\u001b[0m         handle \u001b[38;5;241m=\u001b[39m \u001b[38;5;28;43mopen\u001b[39;49m\u001b[43m(\u001b[49m\n\u001b[1;32m    857\u001b[0m \u001b[43m            \u001b[49m\u001b[43mhandle\u001b[49m\u001b[43m,\u001b[49m\n\u001b[1;32m    858\u001b[0m \u001b[43m            \u001b[49m\u001b[43mioargs\u001b[49m\u001b[38;5;241;43m.\u001b[39;49m\u001b[43mmode\u001b[49m\u001b[43m,\u001b[49m\n\u001b[1;32m    859\u001b[0m \u001b[43m            \u001b[49m\u001b[43mencoding\u001b[49m\u001b[38;5;241;43m=\u001b[39;49m\u001b[43mioargs\u001b[49m\u001b[38;5;241;43m.\u001b[39;49m\u001b[43mencoding\u001b[49m\u001b[43m,\u001b[49m\n\u001b[1;32m    860\u001b[0m \u001b[43m            \u001b[49m\u001b[43merrors\u001b[49m\u001b[38;5;241;43m=\u001b[39;49m\u001b[43merrors\u001b[49m\u001b[43m,\u001b[49m\n\u001b[1;32m    861\u001b[0m \u001b[43m            \u001b[49m\u001b[43mnewline\u001b[49m\u001b[38;5;241;43m=\u001b[39;49m\u001b[38;5;124;43m\"\u001b[39;49m\u001b[38;5;124;43m\"\u001b[39;49m\u001b[43m,\u001b[49m\n\u001b[1;32m    862\u001b[0m \u001b[43m        \u001b[49m\u001b[43m)\u001b[49m\n\u001b[1;32m    863\u001b[0m     \u001b[38;5;28;01melse\u001b[39;00m:\n\u001b[1;32m    864\u001b[0m         \u001b[38;5;66;03m# Binary mode\u001b[39;00m\n\u001b[1;32m    865\u001b[0m         handle \u001b[38;5;241m=\u001b[39m \u001b[38;5;28mopen\u001b[39m(handle, ioargs\u001b[38;5;241m.\u001b[39mmode)\n",
      "\u001b[0;31mFileNotFoundError\u001b[0m: [Errno 2] No such file or directory: 'results.csv'"
     ]
    }
   ],
   "source": [
    "df = pd.read_csv(r\"results.csv\", encoding = \"ISO-8859-1\")"
   ]
  },
  {
   "cell_type": "markdown",
   "id": "1149abd8",
   "metadata": {},
   "source": [
    "# Home Match"
   ]
  },
  {
   "cell_type": "code",
   "execution_count": null,
   "id": "49f41ea4",
   "metadata": {},
   "outputs": [],
   "source": [
    "filt = df['Season'] == '2020-21'\n",
    "df[filt]\n",
    "filt2 = df['HomeTeam'] == 'Liverpool'\n",
    "HomeMatch = df[filt][filt2]\n",
    "HomeMatch"
   ]
  },
  {
   "cell_type": "markdown",
   "id": "0985e785",
   "metadata": {},
   "source": [
    "# Convert H (Home Win) to 0 (W)"
   ]
  },
  {
   "cell_type": "code",
   "execution_count": null,
   "id": "9daf27f6",
   "metadata": {},
   "outputs": [],
   "source": [
    "# Win: 0, Draw: 1, Lose: 2\n",
    "#df['first_set'] = df['first_set'].replace(['Blue'], 'Green')\n",
    "\n",
    "HomeMatch['FTR'] = HomeMatch['FTR'].replace(['H','D','A'], [0, 1, 2])\n",
    "HomeMatch"
   ]
  },
  {
   "cell_type": "markdown",
   "id": "3cfdd25e",
   "metadata": {},
   "source": [
    "# Home difference"
   ]
  },
  {
   "cell_type": "code",
   "execution_count": null,
   "id": "b4eb97ef",
   "metadata": {},
   "outputs": [],
   "source": [
    "# Home goal difference\n",
    "HomeMatch['HGD'] = HomeMatch['FTHG'] - HomeMatch['FTAG']\n",
    "# Home corner difference\n",
    "HomeMatch['HCD'] = HomeMatch['HC'] - HomeMatch['AC']\n",
    "# Home shot difference\n",
    "HomeMatch['HSD'] = HomeMatch['HS'] - HomeMatch['AS']\n",
    "# Home shot on target difference\n",
    "HomeMatch['HSTD'] = HomeMatch['HST'] - HomeMatch['AST']\n",
    "# Home foul difference\n",
    "HomeMatch['HFD'] = HomeMatch['HF'] - HomeMatch['AF']\n",
    "HomeMatch"
   ]
  },
  {
   "cell_type": "markdown",
   "id": "d194cc7b",
   "metadata": {},
   "source": [
    "# Home goal and home conceded goal"
   ]
  },
  {
   "cell_type": "code",
   "execution_count": null,
   "id": "5f85afa1",
   "metadata": {},
   "outputs": [],
   "source": [
    "print(HomeMatch['FTHG'].sum())\n",
    "print(HomeMatch['FTAG'].sum())"
   ]
  },
  {
   "cell_type": "markdown",
   "id": "f1ee1626",
   "metadata": {},
   "source": [
    "# Home win"
   ]
  },
  {
   "cell_type": "code",
   "execution_count": null,
   "id": "cc687e0c",
   "metadata": {},
   "outputs": [],
   "source": [
    "filt3 = HomeMatch['FTHG'] > HomeMatch['FTAG']\n",
    "HomeWin = HomeMatch[filt3]\n",
    "HomeWin\n",
    "#print('Liverpool home win: ' + str(len(HomeWin.index)))"
   ]
  },
  {
   "cell_type": "markdown",
   "id": "5d3943df",
   "metadata": {},
   "source": [
    "# Home draw"
   ]
  },
  {
   "cell_type": "code",
   "execution_count": null,
   "id": "46b48d8a",
   "metadata": {},
   "outputs": [],
   "source": [
    "filt4 = HomeMatch['FTHG'] == HomeMatch['FTAG']\n",
    "HomeDraw = HomeMatch[filt4]\n",
    "HomeDraw\n",
    "#print('Liverpool home draw: ' + str(len(HomeDraw.index)))"
   ]
  },
  {
   "cell_type": "markdown",
   "id": "9ecfd504",
   "metadata": {},
   "source": [
    "# Home lose"
   ]
  },
  {
   "cell_type": "code",
   "execution_count": null,
   "id": "46503886",
   "metadata": {},
   "outputs": [],
   "source": [
    "filt5 = HomeMatch['FTHG'] < HomeMatch['FTAG']\n",
    "HomeLose = HomeMatch[filt5]\n",
    "HomeLose\n",
    "#print('Liverpool home lose: ' + str(len(HomeLose.index)))"
   ]
  },
  {
   "cell_type": "markdown",
   "id": "c71db6cc",
   "metadata": {},
   "source": [
    "# Home corner"
   ]
  },
  {
   "cell_type": "code",
   "execution_count": null,
   "id": "bf42df62",
   "metadata": {},
   "outputs": [],
   "source": [
    "HomeMatch['HC'].sum()"
   ]
  },
  {
   "cell_type": "markdown",
   "id": "b2bfc186",
   "metadata": {},
   "source": [
    "# Home shots"
   ]
  },
  {
   "cell_type": "code",
   "execution_count": null,
   "id": "f3cbd3e3",
   "metadata": {},
   "outputs": [],
   "source": [
    "HomeMatch['HS'].sum()"
   ]
  },
  {
   "cell_type": "markdown",
   "id": "96a84ecc",
   "metadata": {},
   "source": [
    "# Home foul committed "
   ]
  },
  {
   "cell_type": "code",
   "execution_count": null,
   "id": "9e9d1bd8",
   "metadata": {},
   "outputs": [],
   "source": [
    "HomeMatch['HF'].sum()"
   ]
  },
  {
   "cell_type": "markdown",
   "id": "b67b10ef",
   "metadata": {},
   "source": [
    "# Home yellow card"
   ]
  },
  {
   "cell_type": "code",
   "execution_count": null,
   "id": "b1e59c71",
   "metadata": {},
   "outputs": [],
   "source": [
    "HomeMatch['HY'].sum()"
   ]
  },
  {
   "cell_type": "markdown",
   "id": "8103abb2",
   "metadata": {},
   "source": [
    "# Home red card"
   ]
  },
  {
   "cell_type": "code",
   "execution_count": null,
   "id": "0b9686be",
   "metadata": {},
   "outputs": [],
   "source": [
    "HomeMatch['HR'].sum()"
   ]
  },
  {
   "cell_type": "markdown",
   "id": "7c01e9cb",
   "metadata": {},
   "source": [
    "# Away Match"
   ]
  },
  {
   "cell_type": "code",
   "execution_count": null,
   "id": "1ab6b217",
   "metadata": {},
   "outputs": [],
   "source": [
    "filt = df['Season'] == '2020-21'\n",
    "df[filt]\n",
    "filt2 = df['AwayTeam'] == 'Liverpool'\n",
    "AwayMatch = df[filt][filt2]\n",
    "AwayMatch"
   ]
  },
  {
   "cell_type": "markdown",
   "id": "5e1ab7f2",
   "metadata": {},
   "source": [
    "# Convert A (Away Win) to 0 (W)"
   ]
  },
  {
   "cell_type": "code",
   "execution_count": null,
   "id": "2422e47c",
   "metadata": {},
   "outputs": [],
   "source": [
    "# Win: 0, Draw: 1, Lose: 2\n",
    "\n",
    "AwayMatch['FTR'] = AwayMatch['FTR'].replace(['H','D','A'], [2, 1, 0])\n",
    "AwayMatch"
   ]
  },
  {
   "cell_type": "code",
   "execution_count": null,
   "id": "1f5cec4c",
   "metadata": {},
   "outputs": [],
   "source": [
    "# Away goal difference\n",
    "AwayMatch['AGD'] = AwayMatch['FTAG'] - AwayMatch['FTHG']\n",
    "# Away corner difference\n",
    "AwayMatch['ACD'] = AwayMatch['AC'] - AwayMatch['HC']\n",
    "# Away shot difference\n",
    "AwayMatch['ASD'] = AwayMatch['AS'] - AwayMatch['HS']\n",
    "# Away shot on target difference\n",
    "AwayMatch['ASTD'] = AwayMatch['AST'] - AwayMatch['HST']\n",
    "# Away foul difference\n",
    "AwayMatch['AFD'] = AwayMatch['AF'] - AwayMatch['HF']\n",
    "AwayMatch"
   ]
  },
  {
   "cell_type": "markdown",
   "id": "bdefb24d",
   "metadata": {},
   "source": [
    "# Away goal and away conceded goal"
   ]
  },
  {
   "cell_type": "code",
   "execution_count": null,
   "id": "01541864",
   "metadata": {},
   "outputs": [],
   "source": [
    "print(AwayMatch['FTAG'].sum())\n",
    "print(AwayMatch['FTHG'].sum())"
   ]
  },
  {
   "cell_type": "markdown",
   "id": "2fd54c0d",
   "metadata": {},
   "source": [
    "# Away win"
   ]
  },
  {
   "cell_type": "code",
   "execution_count": null,
   "id": "d03d60dc",
   "metadata": {},
   "outputs": [],
   "source": [
    "filt3 = AwayMatch['FTHG'] < AwayMatch['FTAG']\n",
    "AwayWin = AwayMatch[filt3]\n",
    "AwayWin\n",
    "#print('Liverpool away win: ' + str(len(AwayWin.index)))"
   ]
  },
  {
   "cell_type": "markdown",
   "id": "c5bf893f",
   "metadata": {},
   "source": [
    "# Away draw"
   ]
  },
  {
   "cell_type": "code",
   "execution_count": null,
   "id": "be027433",
   "metadata": {},
   "outputs": [],
   "source": [
    "filt4 = AwayMatch['FTHG'] == AwayMatch['FTAG']\n",
    "AwayDraw = AwayMatch[filt4]\n",
    "AwayDraw\n",
    "#print('Liverpool away draw: ' + str(len(AwayDraw.index)))"
   ]
  },
  {
   "cell_type": "markdown",
   "id": "9deadcda",
   "metadata": {},
   "source": [
    "# Away lose"
   ]
  },
  {
   "cell_type": "code",
   "execution_count": null,
   "id": "0fc5d449",
   "metadata": {},
   "outputs": [],
   "source": [
    "filt5 = AwayMatch['FTHG'] > AwayMatch['FTAG']\n",
    "AwayLose = AwayMatch[filt5]\n",
    "AwayLose\n",
    "#print('Liverpool away lose: ' + str(len(AwayLose.index)))"
   ]
  },
  {
   "cell_type": "markdown",
   "id": "a755b681",
   "metadata": {},
   "source": [
    "# Away corner"
   ]
  },
  {
   "cell_type": "code",
   "execution_count": null,
   "id": "a4d50af7",
   "metadata": {},
   "outputs": [],
   "source": [
    "AwayMatch['AC'].sum()"
   ]
  },
  {
   "cell_type": "markdown",
   "id": "3051473a",
   "metadata": {},
   "source": [
    "# Away shots"
   ]
  },
  {
   "cell_type": "code",
   "execution_count": null,
   "id": "7ac7e72f",
   "metadata": {},
   "outputs": [],
   "source": [
    "AwayMatch['AS'].sum()"
   ]
  },
  {
   "cell_type": "markdown",
   "id": "415be7bf",
   "metadata": {},
   "source": [
    "# Away foul committed "
   ]
  },
  {
   "cell_type": "code",
   "execution_count": null,
   "id": "a49c5a7c",
   "metadata": {},
   "outputs": [],
   "source": [
    "AwayMatch['AF'].sum()"
   ]
  },
  {
   "cell_type": "markdown",
   "id": "7f2fb9a7",
   "metadata": {},
   "source": [
    "# Away yellow card"
   ]
  },
  {
   "cell_type": "code",
   "execution_count": null,
   "id": "0a504727",
   "metadata": {},
   "outputs": [],
   "source": [
    "HomeMatch['AY'].sum()"
   ]
  },
  {
   "cell_type": "markdown",
   "id": "2992bde6",
   "metadata": {},
   "source": [
    "# Away red card"
   ]
  },
  {
   "cell_type": "code",
   "execution_count": null,
   "id": "0a6c4003",
   "metadata": {},
   "outputs": [],
   "source": [
    "HomeMatch['AR'].sum()"
   ]
  },
  {
   "cell_type": "markdown",
   "id": "1b64286d",
   "metadata": {},
   "source": [
    "# Total match"
   ]
  },
  {
   "cell_type": "code",
   "execution_count": null,
   "id": "1b647c45",
   "metadata": {},
   "outputs": [],
   "source": [
    "TotalMatch = pd.concat([HomeMatch, AwayMatch])\n",
    "TotalMatch = TotalMatch.fillna(0)\n",
    "\n",
    "TotalMatch['GD'] = TotalMatch['HGD'] + TotalMatch['AGD']\n",
    "TotalMatch['CD'] = TotalMatch['HCD'] + TotalMatch['ACD']\n",
    "TotalMatch['SD'] = TotalMatch['HSD'] + TotalMatch['ASD']\n",
    "TotalMatch['STD'] = TotalMatch['HSTD'] + TotalMatch['ASTD']\n",
    "TotalMatch['FD'] = TotalMatch['HFD'] + TotalMatch['AFD']\n",
    "\n",
    "TotalMatch"
   ]
  },
  {
   "cell_type": "markdown",
   "id": "d3a95fa8",
   "metadata": {},
   "source": [
    "# Total win"
   ]
  },
  {
   "cell_type": "code",
   "execution_count": null,
   "id": "558ca55c",
   "metadata": {},
   "outputs": [],
   "source": [
    "TotalWin = pd.concat([HomeWin, AwayWin])\n",
    "TotalWin"
   ]
  },
  {
   "cell_type": "markdown",
   "id": "e7892a16",
   "metadata": {},
   "source": [
    "# Total draw"
   ]
  },
  {
   "cell_type": "code",
   "execution_count": null,
   "id": "f4c591ac",
   "metadata": {},
   "outputs": [],
   "source": [
    "TotalDraw = pd.concat([HomeDraw, AwayDraw])\n",
    "TotalDraw"
   ]
  },
  {
   "cell_type": "markdown",
   "id": "8f19a02d",
   "metadata": {},
   "source": [
    "# Total lose"
   ]
  },
  {
   "cell_type": "code",
   "execution_count": null,
   "id": "e6f6e72e",
   "metadata": {},
   "outputs": [],
   "source": [
    "TotalLose = pd.concat([HomeLose, AwayLose])\n",
    "TotalLose"
   ]
  },
  {
   "cell_type": "markdown",
   "id": "283a05bb",
   "metadata": {},
   "source": [
    "# Total goal and total conceded goal"
   ]
  },
  {
   "cell_type": "code",
   "execution_count": null,
   "id": "534c799c",
   "metadata": {},
   "outputs": [],
   "source": [
    "print(HomeMatch['FTHG'].sum() + AwayMatch['FTAG'].sum())"
   ]
  },
  {
   "cell_type": "code",
   "execution_count": null,
   "id": "92d83320",
   "metadata": {},
   "outputs": [],
   "source": [
    "print(HomeMatch['FTAG'].sum() + AwayMatch['FTHG'].sum())"
   ]
  },
  {
   "cell_type": "markdown",
   "id": "d96472d0",
   "metadata": {},
   "source": [
    "# Total point"
   ]
  },
  {
   "cell_type": "code",
   "execution_count": null,
   "id": "2f9b8eb4",
   "metadata": {},
   "outputs": [],
   "source": [
    "winPoint = len(TotalWin.index) * 3\n",
    "winPoint\n",
    "\n",
    "drawPoint = len(TotalDraw.index)\n",
    "drawPoint\n",
    "\n",
    "totalPoint = winPoint + drawPoint\n",
    "totalPoint"
   ]
  },
  {
   "cell_type": "markdown",
   "id": "b3dc697e",
   "metadata": {},
   "source": [
    "# Total corner"
   ]
  },
  {
   "cell_type": "code",
   "execution_count": null,
   "id": "5cd7234a",
   "metadata": {},
   "outputs": [],
   "source": [
    "print(HomeMatch['HC'].sum() + AwayMatch['AC'].sum())"
   ]
  },
  {
   "cell_type": "markdown",
   "id": "de263357",
   "metadata": {},
   "source": [
    "# Total shots"
   ]
  },
  {
   "cell_type": "code",
   "execution_count": null,
   "id": "59580988",
   "metadata": {},
   "outputs": [],
   "source": [
    "print(HomeMatch['HS'].sum() + AwayMatch['AS'].sum())"
   ]
  },
  {
   "cell_type": "markdown",
   "id": "952ebd41",
   "metadata": {},
   "source": [
    "# Total foul committed"
   ]
  },
  {
   "cell_type": "code",
   "execution_count": null,
   "id": "acc37b53",
   "metadata": {},
   "outputs": [],
   "source": [
    "print(HomeMatch['HF'].sum() + AwayMatch['AF'].sum())"
   ]
  },
  {
   "cell_type": "markdown",
   "id": "e453a1b5",
   "metadata": {},
   "source": [
    "# Total yellow card"
   ]
  },
  {
   "cell_type": "code",
   "execution_count": null,
   "id": "1d6d1939",
   "metadata": {},
   "outputs": [],
   "source": [
    "print(HomeMatch['HY'].sum() + AwayMatch['AY'].sum())"
   ]
  },
  {
   "cell_type": "markdown",
   "id": "db4aec8c",
   "metadata": {},
   "source": [
    "# Total red card"
   ]
  },
  {
   "cell_type": "code",
   "execution_count": null,
   "id": "e1142ae7",
   "metadata": {},
   "outputs": [],
   "source": [
    "print(HomeMatch['HR'].sum() + AwayMatch['AR'].sum())"
   ]
  },
  {
   "cell_type": "markdown",
   "id": "95b1314c",
   "metadata": {},
   "source": [
    "# Data visualization"
   ]
  },
  {
   "cell_type": "code",
   "execution_count": null,
   "id": "ad4329e1",
   "metadata": {},
   "outputs": [],
   "source": [
    "home_result = []\n",
    "home_labels = []\n",
    "\n",
    "home_result.append(len(HomeWin.index))\n",
    "home_result.append(len(HomeDraw.index))\n",
    "home_result.append(len(HomeLose.index))\n",
    "print(home_result)\n",
    "\n",
    "home_labels.append(\"Home Win\")\n",
    "home_labels.append(\"Home Draw\")\n",
    "home_labels.append(\"Home Lose\")\n",
    "print(home_labels)"
   ]
  },
  {
   "cell_type": "code",
   "execution_count": null,
   "id": "dd2e66fd",
   "metadata": {},
   "outputs": [],
   "source": [
    "plt.style.use(\"fivethirtyeight\")\n",
    "plt.pie(home_result, labels=home_labels, autopct='%1.1f%%')\n",
    "\n",
    "plt.title(\"Liverpool Home Result\")\n",
    "plt.tight_layout()"
   ]
  },
  {
   "cell_type": "code",
   "execution_count": null,
   "id": "3c2aeb8f",
   "metadata": {},
   "outputs": [],
   "source": [
    "away_result = []\n",
    "away_labels = []\n",
    "\n",
    "away_result.append(len(AwayWin.index))\n",
    "away_result.append(len(AwayDraw.index))\n",
    "away_result.append(len(AwayLose.index))\n",
    "print(away_result)\n",
    "\n",
    "away_labels.append(\"Away Win\")\n",
    "away_labels.append(\"Away Draw\")\n",
    "away_labels.append(\"Away Lose\")\n",
    "print(away_labels)"
   ]
  },
  {
   "cell_type": "code",
   "execution_count": null,
   "id": "8c57cd96",
   "metadata": {},
   "outputs": [],
   "source": [
    "plt.style.use(\"fivethirtyeight\")\n",
    "plt.pie(away_result, labels=away_labels, autopct='%1.1f%%')\n",
    "\n",
    "plt.title(\"Liverpool Away Result\")\n",
    "plt.tight_layout()"
   ]
  },
  {
   "cell_type": "code",
   "execution_count": null,
   "id": "c06a2c9a",
   "metadata": {},
   "outputs": [],
   "source": [
    "TotalMatch.info()"
   ]
  },
  {
   "cell_type": "markdown",
   "id": "df2afb6a",
   "metadata": {},
   "source": [
    "FTHG - Full time home goal \\\n",
    "FTAG  - Full time away goal \\\n",
    "HS - Home shot \\\n",
    "AS - Away shot \\\n",
    "HST - Home shot on target \\\n",
    "AST - Away shot on target \\\n",
    "HC - Home corner \\\n",
    "AC - Away corner \\\n",
    "HF - Home fouls \\\n",
    "AF - Away fouls \\\n",
    "HY - Home yellow card \\\n",
    "AY - Away yellow card \\\n",
    "HR - Home red card \\\n",
    "AR - Away red card"
   ]
  },
  {
   "cell_type": "markdown",
   "id": "f76e6d49",
   "metadata": {},
   "source": [
    "Features: \\\n",
    "goals_per_match_diff \\\n",
    "corners_per_match_diff \\\n",
    "shots_per_match_diff \\\n",
    "shotsOnTarget_per_match_diff \\\n",
    "fouls_per_match_diff"
   ]
  },
  {
   "cell_type": "code",
   "execution_count": null,
   "id": "a80f4eb2",
   "metadata": {},
   "outputs": [],
   "source": [
    "features = TotalMatch[['CD', 'SD', 'STD', 'FD']]"
   ]
  },
  {
   "cell_type": "code",
   "execution_count": null,
   "id": "d1b54f23",
   "metadata": {},
   "outputs": [],
   "source": [
    "TotalMatch['CD'].values.tolist()"
   ]
  },
  {
   "cell_type": "code",
   "execution_count": null,
   "id": "33bd5156",
   "metadata": {},
   "outputs": [],
   "source": [
    "TotalMatch['SD'].values.tolist()"
   ]
  },
  {
   "cell_type": "code",
   "execution_count": null,
   "id": "669d5e6a",
   "metadata": {},
   "outputs": [],
   "source": [
    "TotalMatch['STD'].values.tolist()"
   ]
  },
  {
   "cell_type": "markdown",
   "id": "914ff86e",
   "metadata": {},
   "source": [
    "Target"
   ]
  },
  {
   "cell_type": "code",
   "execution_count": null,
   "id": "83c8fe48",
   "metadata": {},
   "outputs": [],
   "source": [
    "target = TotalMatch['FTR']\n",
    "target"
   ]
  },
  {
   "cell_type": "code",
   "execution_count": null,
   "id": "eb8e074c",
   "metadata": {},
   "outputs": [],
   "source": [
    "from sklearn.model_selection import train_test_split\n",
    "from sklearn.metrics import precision_recall_fscore_support as score, confusion_matrix, roc_auc_score, classification_report, log_loss\n",
    "\n",
    "from sklearn.neural_network import MLPClassifier\n",
    "from sklearn.neighbors import KNeighborsClassifier\n",
    "from sklearn.svm import SVC\n",
    "from sklearn.gaussian_process import GaussianProcessClassifier\n",
    "from sklearn.gaussian_process.kernels import RBF\n",
    "from sklearn.tree import DecisionTreeClassifier\n",
    "from sklearn.ensemble import RandomForestClassifier, AdaBoostClassifier\n",
    "from sklearn.naive_bayes import GaussianNB\n",
    "from sklearn.discriminant_analysis import QuadraticDiscriminantAnalysis\n",
    "from sklearn.linear_model import LogisticRegression"
   ]
  },
  {
   "cell_type": "code",
   "execution_count": null,
   "id": "5ec6ad2a",
   "metadata": {},
   "outputs": [],
   "source": [
    "X_train,X_test,y_train,y_test = train_test_split(features, target, test_size=0.3, stratify = target)"
   ]
  },
  {
   "cell_type": "code",
   "execution_count": null,
   "id": "f1609c3d",
   "metadata": {},
   "outputs": [],
   "source": [
    "names = [\"Nearest Neighbors\", \"Logistic Regression\",\"Linear SVM\", \"RBF SVM\", \"Gaussian Process\",\n",
    "         \"Decision Tree\", \"Random Forest\", \"Neural Net\", \"AdaBoost\",\n",
    "         \"Naive Bayes\", \"QDA\"]\n",
    "\n",
    "classifiers = [\n",
    "    KNeighborsClassifier(3),\n",
    "    LogisticRegression(),\n",
    "    SVC(kernel=\"linear\", C=0.025, probability=True),\n",
    "    SVC(gamma=2, C=1, probability=True),\n",
    "    GaussianProcessClassifier(1.0 * RBF(1.0)),\n",
    "    DecisionTreeClassifier(max_depth=5),\n",
    "    RandomForestClassifier(max_depth=5, n_estimators=10, max_features=1),\n",
    "    MLPClassifier(alpha=1, max_iter=1000),\n",
    "    AdaBoostClassifier(),\n",
    "    GaussianNB(),\n",
    "    QuadraticDiscriminantAnalysis()]"
   ]
  },
  {
   "cell_type": "code",
   "execution_count": null,
   "id": "e35febb6",
   "metadata": {},
   "outputs": [],
   "source": [
    "for name, clf in zip(names, classifiers):\n",
    "        clf.fit(X_train, y_train)\n",
    "        accuracy = clf.score(X_test, y_test)\n",
    "\n",
    "        # prediction_proba = clf.predict_proba(X_test)\n",
    "        # logloss = log_loss(y_test,prediction_proba)\n",
    "        # precision, recall, fscore, support = score(y_test, prediction)\n",
    "        # conf_martrix = confusion_matrix(y_test, prediction)\n",
    "        # clas_report = classification_report(y_test, prediction)\n",
    "\n",
    "        print(name, accuracy)"
   ]
  }
 ],
 "metadata": {
  "kernelspec": {
   "display_name": "Python 3 (ipykernel)",
   "language": "python",
   "name": "python3"
  },
  "language_info": {
   "codemirror_mode": {
    "name": "ipython",
    "version": 3
   },
   "file_extension": ".py",
   "mimetype": "text/x-python",
   "name": "python",
   "nbconvert_exporter": "python",
   "pygments_lexer": "ipython3",
   "version": "3.11.1"
  }
 },
 "nbformat": 4,
 "nbformat_minor": 5
}
