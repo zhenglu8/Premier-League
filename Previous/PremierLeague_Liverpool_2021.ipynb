{
 "cells": [
  {
   "cell_type": "code",
   "execution_count": 1,
   "id": "43d7f3f9",
   "metadata": {},
   "outputs": [],
   "source": [
    "import pandas as pd\n",
    "import matplotlib.pyplot as plt"
   ]
  },
  {
   "cell_type": "code",
   "execution_count": 4,
   "id": "67032d9f",
   "metadata": {},
   "outputs": [],
   "source": [
    "df = pd.read_csv(r\"../results.csv\", encoding = \"ISO-8859-1\")"
   ]
  },
  {
   "cell_type": "markdown",
   "id": "1149abd8",
   "metadata": {},
   "source": [
    "# Home Match"
   ]
  },
  {
   "cell_type": "code",
   "execution_count": 5,
   "id": "49f41ea4",
   "metadata": {},
   "outputs": [
    {
     "name": "stderr",
     "output_type": "stream",
     "text": [
      "/var/folders/fs/7xwm968n3gz7y_pc2ghf916c0000gn/T/ipykernel_29631/3607604100.py:4: UserWarning: Boolean Series key will be reindexed to match DataFrame index.\n",
      "  HomeMatch = df[filt][filt2]\n"
     ]
    },
    {
     "data": {
      "text/html": [
       "<div>\n",
       "<style scoped>\n",
       "    .dataframe tbody tr th:only-of-type {\n",
       "        vertical-align: middle;\n",
       "    }\n",
       "\n",
       "    .dataframe tbody tr th {\n",
       "        vertical-align: top;\n",
       "    }\n",
       "\n",
       "    .dataframe thead th {\n",
       "        text-align: right;\n",
       "    }\n",
       "</style>\n",
       "<table border=\"1\" class=\"dataframe\">\n",
       "  <thead>\n",
       "    <tr style=\"text-align: right;\">\n",
       "      <th></th>\n",
       "      <th>Season</th>\n",
       "      <th>DateTime</th>\n",
       "      <th>HomeTeam</th>\n",
       "      <th>AwayTeam</th>\n",
       "      <th>FTHG</th>\n",
       "      <th>FTAG</th>\n",
       "      <th>FTR</th>\n",
       "      <th>HTHG</th>\n",
       "      <th>HTAG</th>\n",
       "      <th>HTR</th>\n",
       "      <th>...</th>\n",
       "      <th>HST</th>\n",
       "      <th>AST</th>\n",
       "      <th>HC</th>\n",
       "      <th>AC</th>\n",
       "      <th>HF</th>\n",
       "      <th>AF</th>\n",
       "      <th>HY</th>\n",
       "      <th>AY</th>\n",
       "      <th>HR</th>\n",
       "      <th>AR</th>\n",
       "    </tr>\n",
       "  </thead>\n",
       "  <tbody>\n",
       "    <tr>\n",
       "      <th>10426</th>\n",
       "      <td>2020-21</td>\n",
       "      <td>2020-09-12T17:30:00Z</td>\n",
       "      <td>Liverpool</td>\n",
       "      <td>Leeds</td>\n",
       "      <td>4</td>\n",
       "      <td>3</td>\n",
       "      <td>H</td>\n",
       "      <td>3.0</td>\n",
       "      <td>2.0</td>\n",
       "      <td>H</td>\n",
       "      <td>...</td>\n",
       "      <td>6.0</td>\n",
       "      <td>3.0</td>\n",
       "      <td>9.0</td>\n",
       "      <td>0.0</td>\n",
       "      <td>9.0</td>\n",
       "      <td>6.0</td>\n",
       "      <td>1.0</td>\n",
       "      <td>0.0</td>\n",
       "      <td>0.0</td>\n",
       "      <td>0.0</td>\n",
       "    </tr>\n",
       "    <tr>\n",
       "      <th>10451</th>\n",
       "      <td>2020-21</td>\n",
       "      <td>2020-09-28T20:00:00Z</td>\n",
       "      <td>Liverpool</td>\n",
       "      <td>Arsenal</td>\n",
       "      <td>3</td>\n",
       "      <td>1</td>\n",
       "      <td>H</td>\n",
       "      <td>2.0</td>\n",
       "      <td>1.0</td>\n",
       "      <td>H</td>\n",
       "      <td>...</td>\n",
       "      <td>8.0</td>\n",
       "      <td>3.0</td>\n",
       "      <td>7.0</td>\n",
       "      <td>3.0</td>\n",
       "      <td>11.0</td>\n",
       "      <td>7.0</td>\n",
       "      <td>2.0</td>\n",
       "      <td>2.0</td>\n",
       "      <td>0.0</td>\n",
       "      <td>0.0</td>\n",
       "    </tr>\n",
       "    <tr>\n",
       "      <th>10476</th>\n",
       "      <td>2020-21</td>\n",
       "      <td>2020-10-24T20:00:00Z</td>\n",
       "      <td>Liverpool</td>\n",
       "      <td>Sheffield United</td>\n",
       "      <td>2</td>\n",
       "      <td>1</td>\n",
       "      <td>H</td>\n",
       "      <td>1.0</td>\n",
       "      <td>1.0</td>\n",
       "      <td>D</td>\n",
       "      <td>...</td>\n",
       "      <td>5.0</td>\n",
       "      <td>2.0</td>\n",
       "      <td>7.0</td>\n",
       "      <td>3.0</td>\n",
       "      <td>7.0</td>\n",
       "      <td>15.0</td>\n",
       "      <td>0.0</td>\n",
       "      <td>3.0</td>\n",
       "      <td>0.0</td>\n",
       "      <td>0.0</td>\n",
       "    </tr>\n",
       "    <tr>\n",
       "      <th>10485</th>\n",
       "      <td>2020-21</td>\n",
       "      <td>2020-10-31T17:30:00Z</td>\n",
       "      <td>Liverpool</td>\n",
       "      <td>West Ham</td>\n",
       "      <td>2</td>\n",
       "      <td>1</td>\n",
       "      <td>H</td>\n",
       "      <td>1.0</td>\n",
       "      <td>1.0</td>\n",
       "      <td>D</td>\n",
       "      <td>...</td>\n",
       "      <td>5.0</td>\n",
       "      <td>3.0</td>\n",
       "      <td>1.0</td>\n",
       "      <td>2.0</td>\n",
       "      <td>13.0</td>\n",
       "      <td>14.0</td>\n",
       "      <td>0.0</td>\n",
       "      <td>1.0</td>\n",
       "      <td>0.0</td>\n",
       "      <td>0.0</td>\n",
       "    </tr>\n",
       "    <tr>\n",
       "      <th>10509</th>\n",
       "      <td>2020-21</td>\n",
       "      <td>2020-11-22T19:15:00Z</td>\n",
       "      <td>Liverpool</td>\n",
       "      <td>Leicester</td>\n",
       "      <td>3</td>\n",
       "      <td>0</td>\n",
       "      <td>H</td>\n",
       "      <td>2.0</td>\n",
       "      <td>0.0</td>\n",
       "      <td>H</td>\n",
       "      <td>...</td>\n",
       "      <td>13.0</td>\n",
       "      <td>4.0</td>\n",
       "      <td>10.0</td>\n",
       "      <td>3.0</td>\n",
       "      <td>15.0</td>\n",
       "      <td>6.0</td>\n",
       "      <td>0.0</td>\n",
       "      <td>2.0</td>\n",
       "      <td>0.0</td>\n",
       "      <td>0.0</td>\n",
       "    </tr>\n",
       "    <tr>\n",
       "      <th>10529</th>\n",
       "      <td>2020-21</td>\n",
       "      <td>2020-12-06T19:15:00Z</td>\n",
       "      <td>Liverpool</td>\n",
       "      <td>Wolves</td>\n",
       "      <td>4</td>\n",
       "      <td>0</td>\n",
       "      <td>H</td>\n",
       "      <td>1.0</td>\n",
       "      <td>0.0</td>\n",
       "      <td>H</td>\n",
       "      <td>...</td>\n",
       "      <td>6.0</td>\n",
       "      <td>3.0</td>\n",
       "      <td>4.0</td>\n",
       "      <td>6.0</td>\n",
       "      <td>8.0</td>\n",
       "      <td>14.0</td>\n",
       "      <td>1.0</td>\n",
       "      <td>1.0</td>\n",
       "      <td>0.0</td>\n",
       "      <td>0.0</td>\n",
       "    </tr>\n",
       "    <tr>\n",
       "      <th>10547</th>\n",
       "      <td>2020-21</td>\n",
       "      <td>2020-12-16T20:00:00Z</td>\n",
       "      <td>Liverpool</td>\n",
       "      <td>Tottenham</td>\n",
       "      <td>2</td>\n",
       "      <td>1</td>\n",
       "      <td>H</td>\n",
       "      <td>1.0</td>\n",
       "      <td>1.0</td>\n",
       "      <td>D</td>\n",
       "      <td>...</td>\n",
       "      <td>11.0</td>\n",
       "      <td>2.0</td>\n",
       "      <td>7.0</td>\n",
       "      <td>4.0</td>\n",
       "      <td>8.0</td>\n",
       "      <td>9.0</td>\n",
       "      <td>0.0</td>\n",
       "      <td>2.0</td>\n",
       "      <td>0.0</td>\n",
       "      <td>0.0</td>\n",
       "    </tr>\n",
       "    <tr>\n",
       "      <th>10569</th>\n",
       "      <td>2020-21</td>\n",
       "      <td>2020-12-27T16:30:00Z</td>\n",
       "      <td>Liverpool</td>\n",
       "      <td>West Brom</td>\n",
       "      <td>1</td>\n",
       "      <td>1</td>\n",
       "      <td>D</td>\n",
       "      <td>1.0</td>\n",
       "      <td>0.0</td>\n",
       "      <td>H</td>\n",
       "      <td>...</td>\n",
       "      <td>2.0</td>\n",
       "      <td>3.0</td>\n",
       "      <td>8.0</td>\n",
       "      <td>3.0</td>\n",
       "      <td>8.0</td>\n",
       "      <td>5.0</td>\n",
       "      <td>0.0</td>\n",
       "      <td>1.0</td>\n",
       "      <td>0.0</td>\n",
       "      <td>0.0</td>\n",
       "    </tr>\n",
       "    <tr>\n",
       "      <th>10600</th>\n",
       "      <td>2020-21</td>\n",
       "      <td>2021-01-17T16:30:00Z</td>\n",
       "      <td>Liverpool</td>\n",
       "      <td>Man United</td>\n",
       "      <td>0</td>\n",
       "      <td>0</td>\n",
       "      <td>D</td>\n",
       "      <td>0.0</td>\n",
       "      <td>0.0</td>\n",
       "      <td>D</td>\n",
       "      <td>...</td>\n",
       "      <td>3.0</td>\n",
       "      <td>4.0</td>\n",
       "      <td>7.0</td>\n",
       "      <td>3.0</td>\n",
       "      <td>15.0</td>\n",
       "      <td>6.0</td>\n",
       "      <td>2.0</td>\n",
       "      <td>1.0</td>\n",
       "      <td>0.0</td>\n",
       "      <td>0.0</td>\n",
       "    </tr>\n",
       "    <tr>\n",
       "      <th>10607</th>\n",
       "      <td>2020-21</td>\n",
       "      <td>2021-01-21T20:00:00Z</td>\n",
       "      <td>Liverpool</td>\n",
       "      <td>Burnley</td>\n",
       "      <td>0</td>\n",
       "      <td>1</td>\n",
       "      <td>A</td>\n",
       "      <td>0.0</td>\n",
       "      <td>0.0</td>\n",
       "      <td>D</td>\n",
       "      <td>...</td>\n",
       "      <td>6.0</td>\n",
       "      <td>4.0</td>\n",
       "      <td>12.0</td>\n",
       "      <td>0.0</td>\n",
       "      <td>11.0</td>\n",
       "      <td>8.0</td>\n",
       "      <td>2.0</td>\n",
       "      <td>1.0</td>\n",
       "      <td>0.0</td>\n",
       "      <td>0.0</td>\n",
       "    </tr>\n",
       "    <tr>\n",
       "      <th>10637</th>\n",
       "      <td>2020-21</td>\n",
       "      <td>2021-02-03T20:15:00Z</td>\n",
       "      <td>Liverpool</td>\n",
       "      <td>Brighton</td>\n",
       "      <td>0</td>\n",
       "      <td>1</td>\n",
       "      <td>A</td>\n",
       "      <td>0.0</td>\n",
       "      <td>0.0</td>\n",
       "      <td>D</td>\n",
       "      <td>...</td>\n",
       "      <td>1.0</td>\n",
       "      <td>4.0</td>\n",
       "      <td>6.0</td>\n",
       "      <td>3.0</td>\n",
       "      <td>12.0</td>\n",
       "      <td>6.0</td>\n",
       "      <td>1.0</td>\n",
       "      <td>0.0</td>\n",
       "      <td>0.0</td>\n",
       "      <td>0.0</td>\n",
       "    </tr>\n",
       "    <tr>\n",
       "      <th>10646</th>\n",
       "      <td>2020-21</td>\n",
       "      <td>2021-02-07T16:30:00Z</td>\n",
       "      <td>Liverpool</td>\n",
       "      <td>Man City</td>\n",
       "      <td>1</td>\n",
       "      <td>4</td>\n",
       "      <td>A</td>\n",
       "      <td>0.0</td>\n",
       "      <td>0.0</td>\n",
       "      <td>D</td>\n",
       "      <td>...</td>\n",
       "      <td>3.0</td>\n",
       "      <td>5.0</td>\n",
       "      <td>6.0</td>\n",
       "      <td>1.0</td>\n",
       "      <td>13.0</td>\n",
       "      <td>8.0</td>\n",
       "      <td>2.0</td>\n",
       "      <td>1.0</td>\n",
       "      <td>0.0</td>\n",
       "      <td>0.0</td>\n",
       "    </tr>\n",
       "    <tr>\n",
       "      <th>10664</th>\n",
       "      <td>2020-21</td>\n",
       "      <td>2021-02-20T17:30:00Z</td>\n",
       "      <td>Liverpool</td>\n",
       "      <td>Everton</td>\n",
       "      <td>0</td>\n",
       "      <td>2</td>\n",
       "      <td>A</td>\n",
       "      <td>0.0</td>\n",
       "      <td>1.0</td>\n",
       "      <td>A</td>\n",
       "      <td>...</td>\n",
       "      <td>6.0</td>\n",
       "      <td>6.0</td>\n",
       "      <td>7.0</td>\n",
       "      <td>2.0</td>\n",
       "      <td>10.0</td>\n",
       "      <td>10.0</td>\n",
       "      <td>2.0</td>\n",
       "      <td>1.0</td>\n",
       "      <td>0.0</td>\n",
       "      <td>0.0</td>\n",
       "    </tr>\n",
       "    <tr>\n",
       "      <th>10688</th>\n",
       "      <td>2020-21</td>\n",
       "      <td>2021-03-04T20:15:00Z</td>\n",
       "      <td>Liverpool</td>\n",
       "      <td>Chelsea</td>\n",
       "      <td>0</td>\n",
       "      <td>1</td>\n",
       "      <td>A</td>\n",
       "      <td>0.0</td>\n",
       "      <td>1.0</td>\n",
       "      <td>A</td>\n",
       "      <td>...</td>\n",
       "      <td>1.0</td>\n",
       "      <td>5.0</td>\n",
       "      <td>5.0</td>\n",
       "      <td>2.0</td>\n",
       "      <td>9.0</td>\n",
       "      <td>8.0</td>\n",
       "      <td>0.0</td>\n",
       "      <td>0.0</td>\n",
       "      <td>0.0</td>\n",
       "      <td>0.0</td>\n",
       "    </tr>\n",
       "    <tr>\n",
       "      <th>10694</th>\n",
       "      <td>2020-21</td>\n",
       "      <td>2021-03-07T14:00:00Z</td>\n",
       "      <td>Liverpool</td>\n",
       "      <td>Fulham</td>\n",
       "      <td>0</td>\n",
       "      <td>1</td>\n",
       "      <td>A</td>\n",
       "      <td>0.0</td>\n",
       "      <td>1.0</td>\n",
       "      <td>A</td>\n",
       "      <td>...</td>\n",
       "      <td>3.0</td>\n",
       "      <td>3.0</td>\n",
       "      <td>9.0</td>\n",
       "      <td>4.0</td>\n",
       "      <td>10.0</td>\n",
       "      <td>8.0</td>\n",
       "      <td>2.0</td>\n",
       "      <td>3.0</td>\n",
       "      <td>0.0</td>\n",
       "      <td>0.0</td>\n",
       "    </tr>\n",
       "    <tr>\n",
       "      <th>10726</th>\n",
       "      <td>2020-21</td>\n",
       "      <td>2021-04-10T15:00:00Z</td>\n",
       "      <td>Liverpool</td>\n",
       "      <td>Aston Villa</td>\n",
       "      <td>2</td>\n",
       "      <td>1</td>\n",
       "      <td>H</td>\n",
       "      <td>0.0</td>\n",
       "      <td>1.0</td>\n",
       "      <td>A</td>\n",
       "      <td>...</td>\n",
       "      <td>10.0</td>\n",
       "      <td>5.0</td>\n",
       "      <td>7.0</td>\n",
       "      <td>0.0</td>\n",
       "      <td>16.0</td>\n",
       "      <td>11.0</td>\n",
       "      <td>2.0</td>\n",
       "      <td>4.0</td>\n",
       "      <td>0.0</td>\n",
       "      <td>0.0</td>\n",
       "    </tr>\n",
       "    <tr>\n",
       "      <th>10745</th>\n",
       "      <td>2020-21</td>\n",
       "      <td>2021-04-24T12:30:00Z</td>\n",
       "      <td>Liverpool</td>\n",
       "      <td>Newcastle</td>\n",
       "      <td>1</td>\n",
       "      <td>1</td>\n",
       "      <td>D</td>\n",
       "      <td>1.0</td>\n",
       "      <td>0.0</td>\n",
       "      <td>H</td>\n",
       "      <td>...</td>\n",
       "      <td>9.0</td>\n",
       "      <td>4.0</td>\n",
       "      <td>6.0</td>\n",
       "      <td>3.0</td>\n",
       "      <td>9.0</td>\n",
       "      <td>7.0</td>\n",
       "      <td>2.0</td>\n",
       "      <td>1.0</td>\n",
       "      <td>0.0</td>\n",
       "      <td>0.0</td>\n",
       "    </tr>\n",
       "    <tr>\n",
       "      <th>10765</th>\n",
       "      <td>2020-21</td>\n",
       "      <td>2021-05-08T20:15:00Z</td>\n",
       "      <td>Liverpool</td>\n",
       "      <td>Southampton</td>\n",
       "      <td>2</td>\n",
       "      <td>0</td>\n",
       "      <td>H</td>\n",
       "      <td>1.0</td>\n",
       "      <td>0.0</td>\n",
       "      <td>H</td>\n",
       "      <td>...</td>\n",
       "      <td>6.0</td>\n",
       "      <td>6.0</td>\n",
       "      <td>8.0</td>\n",
       "      <td>4.0</td>\n",
       "      <td>10.0</td>\n",
       "      <td>6.0</td>\n",
       "      <td>0.0</td>\n",
       "      <td>1.0</td>\n",
       "      <td>0.0</td>\n",
       "      <td>0.0</td>\n",
       "    </tr>\n",
       "    <tr>\n",
       "      <th>10799</th>\n",
       "      <td>2020-21</td>\n",
       "      <td>2021-05-23T16:00:00Z</td>\n",
       "      <td>Liverpool</td>\n",
       "      <td>Crystal Palace</td>\n",
       "      <td>2</td>\n",
       "      <td>0</td>\n",
       "      <td>H</td>\n",
       "      <td>1.0</td>\n",
       "      <td>0.0</td>\n",
       "      <td>H</td>\n",
       "      <td>...</td>\n",
       "      <td>5.0</td>\n",
       "      <td>4.0</td>\n",
       "      <td>14.0</td>\n",
       "      <td>1.0</td>\n",
       "      <td>10.0</td>\n",
       "      <td>8.0</td>\n",
       "      <td>2.0</td>\n",
       "      <td>2.0</td>\n",
       "      <td>0.0</td>\n",
       "      <td>0.0</td>\n",
       "    </tr>\n",
       "  </tbody>\n",
       "</table>\n",
       "<p>19 rows × 23 columns</p>\n",
       "</div>"
      ],
      "text/plain": [
       "        Season              DateTime   HomeTeam          AwayTeam  FTHG  FTAG  \\\n",
       "10426  2020-21  2020-09-12T17:30:00Z  Liverpool             Leeds     4     3   \n",
       "10451  2020-21  2020-09-28T20:00:00Z  Liverpool           Arsenal     3     1   \n",
       "10476  2020-21  2020-10-24T20:00:00Z  Liverpool  Sheffield United     2     1   \n",
       "10485  2020-21  2020-10-31T17:30:00Z  Liverpool          West Ham     2     1   \n",
       "10509  2020-21  2020-11-22T19:15:00Z  Liverpool         Leicester     3     0   \n",
       "10529  2020-21  2020-12-06T19:15:00Z  Liverpool            Wolves     4     0   \n",
       "10547  2020-21  2020-12-16T20:00:00Z  Liverpool         Tottenham     2     1   \n",
       "10569  2020-21  2020-12-27T16:30:00Z  Liverpool         West Brom     1     1   \n",
       "10600  2020-21  2021-01-17T16:30:00Z  Liverpool        Man United     0     0   \n",
       "10607  2020-21  2021-01-21T20:00:00Z  Liverpool           Burnley     0     1   \n",
       "10637  2020-21  2021-02-03T20:15:00Z  Liverpool          Brighton     0     1   \n",
       "10646  2020-21  2021-02-07T16:30:00Z  Liverpool          Man City     1     4   \n",
       "10664  2020-21  2021-02-20T17:30:00Z  Liverpool           Everton     0     2   \n",
       "10688  2020-21  2021-03-04T20:15:00Z  Liverpool           Chelsea     0     1   \n",
       "10694  2020-21  2021-03-07T14:00:00Z  Liverpool            Fulham     0     1   \n",
       "10726  2020-21  2021-04-10T15:00:00Z  Liverpool       Aston Villa     2     1   \n",
       "10745  2020-21  2021-04-24T12:30:00Z  Liverpool         Newcastle     1     1   \n",
       "10765  2020-21  2021-05-08T20:15:00Z  Liverpool       Southampton     2     0   \n",
       "10799  2020-21  2021-05-23T16:00:00Z  Liverpool    Crystal Palace     2     0   \n",
       "\n",
       "      FTR  HTHG  HTAG HTR  ...   HST  AST    HC   AC    HF    AF   HY   AY  \\\n",
       "10426   H   3.0   2.0   H  ...   6.0  3.0   9.0  0.0   9.0   6.0  1.0  0.0   \n",
       "10451   H   2.0   1.0   H  ...   8.0  3.0   7.0  3.0  11.0   7.0  2.0  2.0   \n",
       "10476   H   1.0   1.0   D  ...   5.0  2.0   7.0  3.0   7.0  15.0  0.0  3.0   \n",
       "10485   H   1.0   1.0   D  ...   5.0  3.0   1.0  2.0  13.0  14.0  0.0  1.0   \n",
       "10509   H   2.0   0.0   H  ...  13.0  4.0  10.0  3.0  15.0   6.0  0.0  2.0   \n",
       "10529   H   1.0   0.0   H  ...   6.0  3.0   4.0  6.0   8.0  14.0  1.0  1.0   \n",
       "10547   H   1.0   1.0   D  ...  11.0  2.0   7.0  4.0   8.0   9.0  0.0  2.0   \n",
       "10569   D   1.0   0.0   H  ...   2.0  3.0   8.0  3.0   8.0   5.0  0.0  1.0   \n",
       "10600   D   0.0   0.0   D  ...   3.0  4.0   7.0  3.0  15.0   6.0  2.0  1.0   \n",
       "10607   A   0.0   0.0   D  ...   6.0  4.0  12.0  0.0  11.0   8.0  2.0  1.0   \n",
       "10637   A   0.0   0.0   D  ...   1.0  4.0   6.0  3.0  12.0   6.0  1.0  0.0   \n",
       "10646   A   0.0   0.0   D  ...   3.0  5.0   6.0  1.0  13.0   8.0  2.0  1.0   \n",
       "10664   A   0.0   1.0   A  ...   6.0  6.0   7.0  2.0  10.0  10.0  2.0  1.0   \n",
       "10688   A   0.0   1.0   A  ...   1.0  5.0   5.0  2.0   9.0   8.0  0.0  0.0   \n",
       "10694   A   0.0   1.0   A  ...   3.0  3.0   9.0  4.0  10.0   8.0  2.0  3.0   \n",
       "10726   H   0.0   1.0   A  ...  10.0  5.0   7.0  0.0  16.0  11.0  2.0  4.0   \n",
       "10745   D   1.0   0.0   H  ...   9.0  4.0   6.0  3.0   9.0   7.0  2.0  1.0   \n",
       "10765   H   1.0   0.0   H  ...   6.0  6.0   8.0  4.0  10.0   6.0  0.0  1.0   \n",
       "10799   H   1.0   0.0   H  ...   5.0  4.0  14.0  1.0  10.0   8.0  2.0  2.0   \n",
       "\n",
       "        HR   AR  \n",
       "10426  0.0  0.0  \n",
       "10451  0.0  0.0  \n",
       "10476  0.0  0.0  \n",
       "10485  0.0  0.0  \n",
       "10509  0.0  0.0  \n",
       "10529  0.0  0.0  \n",
       "10547  0.0  0.0  \n",
       "10569  0.0  0.0  \n",
       "10600  0.0  0.0  \n",
       "10607  0.0  0.0  \n",
       "10637  0.0  0.0  \n",
       "10646  0.0  0.0  \n",
       "10664  0.0  0.0  \n",
       "10688  0.0  0.0  \n",
       "10694  0.0  0.0  \n",
       "10726  0.0  0.0  \n",
       "10745  0.0  0.0  \n",
       "10765  0.0  0.0  \n",
       "10799  0.0  0.0  \n",
       "\n",
       "[19 rows x 23 columns]"
      ]
     },
     "execution_count": 5,
     "metadata": {},
     "output_type": "execute_result"
    }
   ],
   "source": [
    "filt = df['Season'] == '2020-21'\n",
    "df[filt]\n",
    "filt2 = df['HomeTeam'] == 'Liverpool'\n",
    "HomeMatch = df[filt][filt2]\n",
    "HomeMatch"
   ]
  },
  {
   "cell_type": "markdown",
   "id": "0985e785",
   "metadata": {},
   "source": [
    "# Convert H (Home Win) to 0 (W)"
   ]
  },
  {
   "cell_type": "code",
   "execution_count": null,
   "id": "9daf27f6",
   "metadata": {},
   "outputs": [],
   "source": [
    "# Win: 0, Draw: 1, Lose: 2\n",
    "#df['first_set'] = df['first_set'].replace(['Blue'], 'Green')\n",
    "\n",
    "HomeMatch['FTR'] = HomeMatch['FTR'].replace(['H','D','A'], [0, 1, 2])\n",
    "HomeMatch"
   ]
  },
  {
   "cell_type": "markdown",
   "id": "3cfdd25e",
   "metadata": {},
   "source": [
    "# Home difference"
   ]
  },
  {
   "cell_type": "code",
   "execution_count": null,
   "id": "b4eb97ef",
   "metadata": {},
   "outputs": [],
   "source": [
    "# Home goal difference\n",
    "HomeMatch['HGD'] = HomeMatch['FTHG'] - HomeMatch['FTAG']\n",
    "# Home corner difference\n",
    "HomeMatch['HCD'] = HomeMatch['HC'] - HomeMatch['AC']\n",
    "# Home shot difference\n",
    "HomeMatch['HSD'] = HomeMatch['HS'] - HomeMatch['AS']\n",
    "# Home shot on target difference\n",
    "HomeMatch['HSTD'] = HomeMatch['HST'] - HomeMatch['AST']\n",
    "# Home foul difference\n",
    "HomeMatch['HFD'] = HomeMatch['HF'] - HomeMatch['AF']\n",
    "HomeMatch"
   ]
  },
  {
   "cell_type": "markdown",
   "id": "d194cc7b",
   "metadata": {},
   "source": [
    "# Home goal and home conceded goal"
   ]
  },
  {
   "cell_type": "code",
   "execution_count": null,
   "id": "5f85afa1",
   "metadata": {},
   "outputs": [],
   "source": [
    "print(HomeMatch['FTHG'].sum())\n",
    "print(HomeMatch['FTAG'].sum())"
   ]
  },
  {
   "cell_type": "markdown",
   "id": "f1ee1626",
   "metadata": {},
   "source": [
    "# Home win"
   ]
  },
  {
   "cell_type": "code",
   "execution_count": null,
   "id": "cc687e0c",
   "metadata": {},
   "outputs": [],
   "source": [
    "filt3 = HomeMatch['FTHG'] > HomeMatch['FTAG']\n",
    "HomeWin = HomeMatch[filt3]\n",
    "HomeWin\n",
    "#print('Liverpool home win: ' + str(len(HomeWin.index)))"
   ]
  },
  {
   "cell_type": "markdown",
   "id": "5d3943df",
   "metadata": {},
   "source": [
    "# Home draw"
   ]
  },
  {
   "cell_type": "code",
   "execution_count": null,
   "id": "46b48d8a",
   "metadata": {},
   "outputs": [],
   "source": [
    "filt4 = HomeMatch['FTHG'] == HomeMatch['FTAG']\n",
    "HomeDraw = HomeMatch[filt4]\n",
    "HomeDraw\n",
    "#print('Liverpool home draw: ' + str(len(HomeDraw.index)))"
   ]
  },
  {
   "cell_type": "markdown",
   "id": "9ecfd504",
   "metadata": {},
   "source": [
    "# Home lose"
   ]
  },
  {
   "cell_type": "code",
   "execution_count": null,
   "id": "46503886",
   "metadata": {},
   "outputs": [],
   "source": [
    "filt5 = HomeMatch['FTHG'] < HomeMatch['FTAG']\n",
    "HomeLose = HomeMatch[filt5]\n",
    "HomeLose\n",
    "#print('Liverpool home lose: ' + str(len(HomeLose.index)))"
   ]
  },
  {
   "cell_type": "markdown",
   "id": "c71db6cc",
   "metadata": {},
   "source": [
    "# Home corner"
   ]
  },
  {
   "cell_type": "code",
   "execution_count": null,
   "id": "bf42df62",
   "metadata": {},
   "outputs": [],
   "source": [
    "HomeMatch['HC'].sum()"
   ]
  },
  {
   "cell_type": "markdown",
   "id": "b2bfc186",
   "metadata": {},
   "source": [
    "# Home shots"
   ]
  },
  {
   "cell_type": "code",
   "execution_count": null,
   "id": "f3cbd3e3",
   "metadata": {},
   "outputs": [],
   "source": [
    "HomeMatch['HS'].sum()"
   ]
  },
  {
   "cell_type": "markdown",
   "id": "96a84ecc",
   "metadata": {},
   "source": [
    "# Home foul committed "
   ]
  },
  {
   "cell_type": "code",
   "execution_count": null,
   "id": "9e9d1bd8",
   "metadata": {},
   "outputs": [],
   "source": [
    "HomeMatch['HF'].sum()"
   ]
  },
  {
   "cell_type": "markdown",
   "id": "b67b10ef",
   "metadata": {},
   "source": [
    "# Home yellow card"
   ]
  },
  {
   "cell_type": "code",
   "execution_count": null,
   "id": "b1e59c71",
   "metadata": {},
   "outputs": [],
   "source": [
    "HomeMatch['HY'].sum()"
   ]
  },
  {
   "cell_type": "markdown",
   "id": "8103abb2",
   "metadata": {},
   "source": [
    "# Home red card"
   ]
  },
  {
   "cell_type": "code",
   "execution_count": null,
   "id": "0b9686be",
   "metadata": {},
   "outputs": [],
   "source": [
    "HomeMatch['HR'].sum()"
   ]
  },
  {
   "cell_type": "markdown",
   "id": "7c01e9cb",
   "metadata": {},
   "source": [
    "# Away Match"
   ]
  },
  {
   "cell_type": "code",
   "execution_count": null,
   "id": "1ab6b217",
   "metadata": {},
   "outputs": [],
   "source": [
    "filt = df['Season'] == '2020-21'\n",
    "df[filt]\n",
    "filt2 = df['AwayTeam'] == 'Liverpool'\n",
    "AwayMatch = df[filt][filt2]\n",
    "AwayMatch"
   ]
  },
  {
   "cell_type": "markdown",
   "id": "5e1ab7f2",
   "metadata": {},
   "source": [
    "# Convert A (Away Win) to 0 (W)"
   ]
  },
  {
   "cell_type": "code",
   "execution_count": null,
   "id": "2422e47c",
   "metadata": {},
   "outputs": [],
   "source": [
    "# Win: 0, Draw: 1, Lose: 2\n",
    "\n",
    "AwayMatch['FTR'] = AwayMatch['FTR'].replace(['H','D','A'], [2, 1, 0])\n",
    "AwayMatch"
   ]
  },
  {
   "cell_type": "code",
   "execution_count": null,
   "id": "1f5cec4c",
   "metadata": {},
   "outputs": [],
   "source": [
    "# Away goal difference\n",
    "AwayMatch['AGD'] = AwayMatch['FTAG'] - AwayMatch['FTHG']\n",
    "# Away corner difference\n",
    "AwayMatch['ACD'] = AwayMatch['AC'] - AwayMatch['HC']\n",
    "# Away shot difference\n",
    "AwayMatch['ASD'] = AwayMatch['AS'] - AwayMatch['HS']\n",
    "# Away shot on target difference\n",
    "AwayMatch['ASTD'] = AwayMatch['AST'] - AwayMatch['HST']\n",
    "# Away foul difference\n",
    "AwayMatch['AFD'] = AwayMatch['AF'] - AwayMatch['HF']\n",
    "AwayMatch"
   ]
  },
  {
   "cell_type": "markdown",
   "id": "bdefb24d",
   "metadata": {},
   "source": [
    "# Away goal and away conceded goal"
   ]
  },
  {
   "cell_type": "code",
   "execution_count": null,
   "id": "01541864",
   "metadata": {},
   "outputs": [],
   "source": [
    "print(AwayMatch['FTAG'].sum())\n",
    "print(AwayMatch['FTHG'].sum())"
   ]
  },
  {
   "cell_type": "markdown",
   "id": "2fd54c0d",
   "metadata": {},
   "source": [
    "# Away win"
   ]
  },
  {
   "cell_type": "code",
   "execution_count": null,
   "id": "d03d60dc",
   "metadata": {},
   "outputs": [],
   "source": [
    "filt3 = AwayMatch['FTHG'] < AwayMatch['FTAG']\n",
    "AwayWin = AwayMatch[filt3]\n",
    "AwayWin\n",
    "#print('Liverpool away win: ' + str(len(AwayWin.index)))"
   ]
  },
  {
   "cell_type": "markdown",
   "id": "c5bf893f",
   "metadata": {},
   "source": [
    "# Away draw"
   ]
  },
  {
   "cell_type": "code",
   "execution_count": null,
   "id": "be027433",
   "metadata": {},
   "outputs": [],
   "source": [
    "filt4 = AwayMatch['FTHG'] == AwayMatch['FTAG']\n",
    "AwayDraw = AwayMatch[filt4]\n",
    "AwayDraw\n",
    "#print('Liverpool away draw: ' + str(len(AwayDraw.index)))"
   ]
  },
  {
   "cell_type": "markdown",
   "id": "9deadcda",
   "metadata": {},
   "source": [
    "# Away lose"
   ]
  },
  {
   "cell_type": "code",
   "execution_count": null,
   "id": "0fc5d449",
   "metadata": {},
   "outputs": [],
   "source": [
    "filt5 = AwayMatch['FTHG'] > AwayMatch['FTAG']\n",
    "AwayLose = AwayMatch[filt5]\n",
    "AwayLose\n",
    "#print('Liverpool away lose: ' + str(len(AwayLose.index)))"
   ]
  },
  {
   "cell_type": "markdown",
   "id": "a755b681",
   "metadata": {},
   "source": [
    "# Away corner"
   ]
  },
  {
   "cell_type": "code",
   "execution_count": null,
   "id": "a4d50af7",
   "metadata": {},
   "outputs": [],
   "source": [
    "AwayMatch['AC'].sum()"
   ]
  },
  {
   "cell_type": "markdown",
   "id": "3051473a",
   "metadata": {},
   "source": [
    "# Away shots"
   ]
  },
  {
   "cell_type": "code",
   "execution_count": null,
   "id": "7ac7e72f",
   "metadata": {},
   "outputs": [],
   "source": [
    "AwayMatch['AS'].sum()"
   ]
  },
  {
   "cell_type": "markdown",
   "id": "415be7bf",
   "metadata": {},
   "source": [
    "# Away foul committed "
   ]
  },
  {
   "cell_type": "code",
   "execution_count": null,
   "id": "a49c5a7c",
   "metadata": {},
   "outputs": [],
   "source": [
    "AwayMatch['AF'].sum()"
   ]
  },
  {
   "cell_type": "markdown",
   "id": "7f2fb9a7",
   "metadata": {},
   "source": [
    "# Away yellow card"
   ]
  },
  {
   "cell_type": "code",
   "execution_count": null,
   "id": "0a504727",
   "metadata": {},
   "outputs": [],
   "source": [
    "HomeMatch['AY'].sum()"
   ]
  },
  {
   "cell_type": "markdown",
   "id": "2992bde6",
   "metadata": {},
   "source": [
    "# Away red card"
   ]
  },
  {
   "cell_type": "code",
   "execution_count": null,
   "id": "0a6c4003",
   "metadata": {},
   "outputs": [],
   "source": [
    "HomeMatch['AR'].sum()"
   ]
  },
  {
   "cell_type": "markdown",
   "id": "1b64286d",
   "metadata": {},
   "source": [
    "# Total match"
   ]
  },
  {
   "cell_type": "code",
   "execution_count": null,
   "id": "1b647c45",
   "metadata": {},
   "outputs": [],
   "source": [
    "TotalMatch = pd.concat([HomeMatch, AwayMatch])\n",
    "TotalMatch = TotalMatch.fillna(0)\n",
    "\n",
    "TotalMatch['GD'] = TotalMatch['HGD'] + TotalMatch['AGD']\n",
    "TotalMatch['CD'] = TotalMatch['HCD'] + TotalMatch['ACD']\n",
    "TotalMatch['SD'] = TotalMatch['HSD'] + TotalMatch['ASD']\n",
    "TotalMatch['STD'] = TotalMatch['HSTD'] + TotalMatch['ASTD']\n",
    "TotalMatch['FD'] = TotalMatch['HFD'] + TotalMatch['AFD']\n",
    "\n",
    "TotalMatch"
   ]
  },
  {
   "cell_type": "markdown",
   "id": "d3a95fa8",
   "metadata": {},
   "source": [
    "# Total win"
   ]
  },
  {
   "cell_type": "code",
   "execution_count": null,
   "id": "558ca55c",
   "metadata": {},
   "outputs": [],
   "source": [
    "TotalWin = pd.concat([HomeWin, AwayWin])\n",
    "TotalWin"
   ]
  },
  {
   "cell_type": "markdown",
   "id": "e7892a16",
   "metadata": {},
   "source": [
    "# Total draw"
   ]
  },
  {
   "cell_type": "code",
   "execution_count": null,
   "id": "f4c591ac",
   "metadata": {},
   "outputs": [],
   "source": [
    "TotalDraw = pd.concat([HomeDraw, AwayDraw])\n",
    "TotalDraw"
   ]
  },
  {
   "cell_type": "markdown",
   "id": "8f19a02d",
   "metadata": {},
   "source": [
    "# Total lose"
   ]
  },
  {
   "cell_type": "code",
   "execution_count": null,
   "id": "e6f6e72e",
   "metadata": {},
   "outputs": [],
   "source": [
    "TotalLose = pd.concat([HomeLose, AwayLose])\n",
    "TotalLose"
   ]
  },
  {
   "cell_type": "markdown",
   "id": "283a05bb",
   "metadata": {},
   "source": [
    "# Total goal and total conceded goal"
   ]
  },
  {
   "cell_type": "code",
   "execution_count": null,
   "id": "534c799c",
   "metadata": {},
   "outputs": [],
   "source": [
    "print(HomeMatch['FTHG'].sum() + AwayMatch['FTAG'].sum())"
   ]
  },
  {
   "cell_type": "code",
   "execution_count": null,
   "id": "92d83320",
   "metadata": {},
   "outputs": [],
   "source": [
    "print(HomeMatch['FTAG'].sum() + AwayMatch['FTHG'].sum())"
   ]
  },
  {
   "cell_type": "markdown",
   "id": "d96472d0",
   "metadata": {},
   "source": [
    "# Total point"
   ]
  },
  {
   "cell_type": "code",
   "execution_count": null,
   "id": "2f9b8eb4",
   "metadata": {},
   "outputs": [],
   "source": [
    "winPoint = len(TotalWin.index) * 3\n",
    "winPoint\n",
    "\n",
    "drawPoint = len(TotalDraw.index)\n",
    "drawPoint\n",
    "\n",
    "totalPoint = winPoint + drawPoint\n",
    "totalPoint"
   ]
  },
  {
   "cell_type": "markdown",
   "id": "b3dc697e",
   "metadata": {},
   "source": [
    "# Total corner"
   ]
  },
  {
   "cell_type": "code",
   "execution_count": null,
   "id": "5cd7234a",
   "metadata": {},
   "outputs": [],
   "source": [
    "print(HomeMatch['HC'].sum() + AwayMatch['AC'].sum())"
   ]
  },
  {
   "cell_type": "markdown",
   "id": "de263357",
   "metadata": {},
   "source": [
    "# Total shots"
   ]
  },
  {
   "cell_type": "code",
   "execution_count": null,
   "id": "59580988",
   "metadata": {},
   "outputs": [],
   "source": [
    "print(HomeMatch['HS'].sum() + AwayMatch['AS'].sum())"
   ]
  },
  {
   "cell_type": "markdown",
   "id": "952ebd41",
   "metadata": {},
   "source": [
    "# Total foul committed"
   ]
  },
  {
   "cell_type": "code",
   "execution_count": null,
   "id": "acc37b53",
   "metadata": {},
   "outputs": [],
   "source": [
    "print(HomeMatch['HF'].sum() + AwayMatch['AF'].sum())"
   ]
  },
  {
   "cell_type": "markdown",
   "id": "e453a1b5",
   "metadata": {},
   "source": [
    "# Total yellow card"
   ]
  },
  {
   "cell_type": "code",
   "execution_count": null,
   "id": "1d6d1939",
   "metadata": {},
   "outputs": [],
   "source": [
    "print(HomeMatch['HY'].sum() + AwayMatch['AY'].sum())"
   ]
  },
  {
   "cell_type": "markdown",
   "id": "db4aec8c",
   "metadata": {},
   "source": [
    "# Total red card"
   ]
  },
  {
   "cell_type": "code",
   "execution_count": null,
   "id": "e1142ae7",
   "metadata": {},
   "outputs": [],
   "source": [
    "print(HomeMatch['HR'].sum() + AwayMatch['AR'].sum())"
   ]
  },
  {
   "cell_type": "markdown",
   "id": "95b1314c",
   "metadata": {},
   "source": [
    "# Data visualization"
   ]
  },
  {
   "cell_type": "code",
   "execution_count": null,
   "id": "ad4329e1",
   "metadata": {},
   "outputs": [],
   "source": [
    "home_result = []\n",
    "home_labels = []\n",
    "\n",
    "home_result.append(len(HomeWin.index))\n",
    "home_result.append(len(HomeDraw.index))\n",
    "home_result.append(len(HomeLose.index))\n",
    "print(home_result)\n",
    "\n",
    "home_labels.append(\"Home Win\")\n",
    "home_labels.append(\"Home Draw\")\n",
    "home_labels.append(\"Home Lose\")\n",
    "print(home_labels)"
   ]
  },
  {
   "cell_type": "code",
   "execution_count": null,
   "id": "dd2e66fd",
   "metadata": {},
   "outputs": [],
   "source": [
    "plt.style.use(\"fivethirtyeight\")\n",
    "plt.pie(home_result, labels=home_labels, autopct='%1.1f%%')\n",
    "\n",
    "plt.title(\"Liverpool Home Result\")\n",
    "plt.tight_layout()"
   ]
  },
  {
   "cell_type": "code",
   "execution_count": null,
   "id": "3c2aeb8f",
   "metadata": {},
   "outputs": [],
   "source": [
    "away_result = []\n",
    "away_labels = []\n",
    "\n",
    "away_result.append(len(AwayWin.index))\n",
    "away_result.append(len(AwayDraw.index))\n",
    "away_result.append(len(AwayLose.index))\n",
    "print(away_result)\n",
    "\n",
    "away_labels.append(\"Away Win\")\n",
    "away_labels.append(\"Away Draw\")\n",
    "away_labels.append(\"Away Lose\")\n",
    "print(away_labels)"
   ]
  },
  {
   "cell_type": "code",
   "execution_count": null,
   "id": "8c57cd96",
   "metadata": {},
   "outputs": [],
   "source": [
    "plt.style.use(\"fivethirtyeight\")\n",
    "plt.pie(away_result, labels=away_labels, autopct='%1.1f%%')\n",
    "\n",
    "plt.title(\"Liverpool Away Result\")\n",
    "plt.tight_layout()"
   ]
  },
  {
   "cell_type": "code",
   "execution_count": null,
   "id": "c06a2c9a",
   "metadata": {},
   "outputs": [],
   "source": [
    "TotalMatch.info()"
   ]
  },
  {
   "cell_type": "markdown",
   "id": "df2afb6a",
   "metadata": {},
   "source": [
    "FTHG - Full time home goal \\\n",
    "FTAG  - Full time away goal \\\n",
    "HS - Home shot \\\n",
    "AS - Away shot \\\n",
    "HST - Home shot on target \\\n",
    "AST - Away shot on target \\\n",
    "HC - Home corner \\\n",
    "AC - Away corner \\\n",
    "HF - Home fouls \\\n",
    "AF - Away fouls \\\n",
    "HY - Home yellow card \\\n",
    "AY - Away yellow card \\\n",
    "HR - Home red card \\\n",
    "AR - Away red card"
   ]
  },
  {
   "cell_type": "markdown",
   "id": "f76e6d49",
   "metadata": {},
   "source": [
    "Features: \\\n",
    "goals_per_match_diff \\\n",
    "corners_per_match_diff \\\n",
    "shots_per_match_diff \\\n",
    "shotsOnTarget_per_match_diff \\\n",
    "fouls_per_match_diff"
   ]
  },
  {
   "cell_type": "code",
   "execution_count": null,
   "id": "a80f4eb2",
   "metadata": {},
   "outputs": [],
   "source": [
    "features = TotalMatch[['CD', 'SD', 'STD', 'FD']]"
   ]
  },
  {
   "cell_type": "code",
   "execution_count": null,
   "id": "d1b54f23",
   "metadata": {},
   "outputs": [],
   "source": [
    "TotalMatch['CD'].values.tolist()"
   ]
  },
  {
   "cell_type": "code",
   "execution_count": null,
   "id": "33bd5156",
   "metadata": {},
   "outputs": [],
   "source": [
    "TotalMatch['SD'].values.tolist()"
   ]
  },
  {
   "cell_type": "code",
   "execution_count": null,
   "id": "669d5e6a",
   "metadata": {},
   "outputs": [],
   "source": [
    "TotalMatch['STD'].values.tolist()"
   ]
  },
  {
   "cell_type": "markdown",
   "id": "914ff86e",
   "metadata": {},
   "source": [
    "Target"
   ]
  },
  {
   "cell_type": "code",
   "execution_count": null,
   "id": "83c8fe48",
   "metadata": {},
   "outputs": [],
   "source": [
    "target = TotalMatch['FTR']\n",
    "target"
   ]
  },
  {
   "cell_type": "code",
   "execution_count": null,
   "id": "eb8e074c",
   "metadata": {},
   "outputs": [],
   "source": [
    "from sklearn.model_selection import train_test_split\n",
    "from sklearn.metrics import precision_recall_fscore_support as score, confusion_matrix, roc_auc_score, classification_report, log_loss\n",
    "\n",
    "from sklearn.neural_network import MLPClassifier\n",
    "from sklearn.neighbors import KNeighborsClassifier\n",
    "from sklearn.svm import SVC\n",
    "from sklearn.gaussian_process import GaussianProcessClassifier\n",
    "from sklearn.gaussian_process.kernels import RBF\n",
    "from sklearn.tree import DecisionTreeClassifier\n",
    "from sklearn.ensemble import RandomForestClassifier, AdaBoostClassifier\n",
    "from sklearn.naive_bayes import GaussianNB\n",
    "from sklearn.discriminant_analysis import QuadraticDiscriminantAnalysis\n",
    "from sklearn.linear_model import LogisticRegression"
   ]
  },
  {
   "cell_type": "code",
   "execution_count": null,
   "id": "5ec6ad2a",
   "metadata": {},
   "outputs": [],
   "source": [
    "X_train,X_test,y_train,y_test = train_test_split(features, target, test_size=0.3, stratify = target)"
   ]
  },
  {
   "cell_type": "code",
   "execution_count": null,
   "id": "f1609c3d",
   "metadata": {},
   "outputs": [],
   "source": [
    "names = [\"Nearest Neighbors\", \"Logistic Regression\",\"Linear SVM\", \"RBF SVM\", \"Gaussian Process\",\n",
    "         \"Decision Tree\", \"Random Forest\", \"Neural Net\", \"AdaBoost\",\n",
    "         \"Naive Bayes\", \"QDA\"]\n",
    "\n",
    "classifiers = [\n",
    "    KNeighborsClassifier(3),\n",
    "    LogisticRegression(),\n",
    "    SVC(kernel=\"linear\", C=0.025, probability=True),\n",
    "    SVC(gamma=2, C=1, probability=True),\n",
    "    GaussianProcessClassifier(1.0 * RBF(1.0)),\n",
    "    DecisionTreeClassifier(max_depth=5),\n",
    "    RandomForestClassifier(max_depth=5, n_estimators=10, max_features=1),\n",
    "    MLPClassifier(alpha=1, max_iter=1000),\n",
    "    AdaBoostClassifier(),\n",
    "    GaussianNB(),\n",
    "    QuadraticDiscriminantAnalysis()]"
   ]
  },
  {
   "cell_type": "code",
   "execution_count": null,
   "id": "e35febb6",
   "metadata": {},
   "outputs": [],
   "source": [
    "for name, clf in zip(names, classifiers):\n",
    "        clf.fit(X_train, y_train)\n",
    "        accuracy = clf.score(X_test, y_test)\n",
    "\n",
    "        # prediction_proba = clf.predict_proba(X_test)\n",
    "        # logloss = log_loss(y_test,prediction_proba)\n",
    "        # precision, recall, fscore, support = score(y_test, prediction)\n",
    "        # conf_martrix = confusion_matrix(y_test, prediction)\n",
    "        # clas_report = classification_report(y_test, prediction)\n",
    "\n",
    "        print(name, accuracy)"
   ]
  }
 ],
 "metadata": {
  "kernelspec": {
   "display_name": "Python 3 (ipykernel)",
   "language": "python",
   "name": "python3"
  },
  "language_info": {
   "codemirror_mode": {
    "name": "ipython",
    "version": 3
   },
   "file_extension": ".py",
   "mimetype": "text/x-python",
   "name": "python",
   "nbconvert_exporter": "python",
   "pygments_lexer": "ipython3",
   "version": "3.11.1"
  }
 },
 "nbformat": 4,
 "nbformat_minor": 5
}
